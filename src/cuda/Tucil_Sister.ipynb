{
  "cells": [
    {
      "cell_type": "markdown",
      "metadata": {
        "id": "Lisdv5IBfBjl"
      },
      "source": [
        "# Check for prequisites"
      ]
    },
    {
      "cell_type": "code",
      "execution_count": 171,
      "metadata": {
        "colab": {
          "base_uri": "https://localhost:8080/"
        },
        "id": "Cf00RTAaegXW",
        "outputId": "c845816a-fe0a-4733-ab3e-0d826ac14d0e"
      },
      "outputs": [
        {
          "name": "stderr",
          "output_type": "stream",
          "text": [
            "'ls' is not recognized as an internal or external command,\n",
            "operable program or batch file.\n"
          ]
        }
      ],
      "source": [
        "# check for cuda toolkit\n",
        "!ls /usr/local/"
      ]
    },
    {
      "cell_type": "code",
      "execution_count": 172,
      "metadata": {
        "colab": {
          "base_uri": "https://localhost:8080/"
        },
        "id": "s8y0c3dEe51F",
        "outputId": "86eff391-975c-46ce-8a22-f6e9c2c1cc1d"
      },
      "outputs": [
        {
          "name": "stderr",
          "output_type": "stream",
          "text": [
            "'which' is not recognized as an internal or external command,\n",
            "operable program or batch file.\n"
          ]
        }
      ],
      "source": [
        "# check for cuda compiler driver\n",
        "!which nvcc"
      ]
    },
    {
      "cell_type": "code",
      "execution_count": 173,
      "metadata": {
        "colab": {
          "base_uri": "https://localhost:8080/"
        },
        "id": "M1fb8RXhe8g3",
        "outputId": "ee8ffabd-7b02-4078-833f-0be38e827cb0"
      },
      "outputs": [
        {
          "name": "stdout",
          "output_type": "stream",
          "text": [
            "Wed Apr 17 12:01:13 2024       \n",
            "+---------------------------------------------------------------------------------------+\n",
            "| NVIDIA-SMI 537.70                 Driver Version: 537.70       CUDA Version: 12.2     |\n",
            "|-----------------------------------------+----------------------+----------------------+\n",
            "| GPU  Name                     TCC/WDDM  | Bus-Id        Disp.A | Volatile Uncorr. ECC |\n",
            "| Fan  Temp   Perf          Pwr:Usage/Cap |         Memory-Usage | GPU-Util  Compute M. |\n",
            "|                                         |                      |               MIG M. |\n",
            "|=========================================+======================+======================|\n",
            "|   0  NVIDIA GeForce MX550         WDDM  | 00000000:02:00.0 Off |                  N/A |\n",
            "| N/A   72C    P0              10W /  30W |    108MiB /  2048MiB |    100%      Default |\n",
            "|                                         |                      |                  N/A |\n",
            "+-----------------------------------------+----------------------+----------------------+\n",
            "                                                                                         \n",
            "+---------------------------------------------------------------------------------------+\n",
            "| Processes:                                                                            |\n",
            "|  GPU   GI   CI        PID   Type   Process name                            GPU Memory |\n",
            "|        ID   ID                                                             Usage      |\n",
            "|=======================================================================================|\n",
            "|    0   N/A  N/A     10912      C   ...s\\sadda\\AppData\\Local\\Temp\\dTriimzo    N/A      |\n",
            "|    0   N/A  N/A     11872      C   ...s\\sadda\\AppData\\Local\\Temp\\dTriimzo    N/A      |\n",
            "+---------------------------------------------------------------------------------------+\n"
          ]
        }
      ],
      "source": [
        "# check for CUSA device\n",
        "!nvidia-smi"
      ]
    },
    {
      "cell_type": "code",
      "execution_count": 174,
      "metadata": {
        "colab": {
          "base_uri": "https://localhost:8080/"
        },
        "id": "gp0Hf1IEnUzj",
        "outputId": "6a4c0d71-6269-457d-aab9-0c64de011183"
      },
      "outputs": [
        {
          "name": "stderr",
          "output_type": "stream",
          "text": [
            "'which' is not recognized as an internal or external command,\n",
            "operable program or batch file.\n"
          ]
        }
      ],
      "source": [
        "# check for cpp compiler\n",
        "!which g++"
      ]
    },
    {
      "cell_type": "markdown",
      "metadata": {
        "id": "ap_f1x_0irDd"
      },
      "source": [
        "# Creating CUDA file"
      ]
    },
    {
      "cell_type": "markdown",
      "metadata": {
        "id": "Gxj4czG3pSSR"
      },
      "source": [
        "Device header file"
      ]
    },
    {
      "cell_type": "code",
      "execution_count": 175,
      "metadata": {
        "colab": {
          "base_uri": "https://localhost:8080/"
        },
        "id": "eIlFe0xli_VA",
        "outputId": "12d1d68d-1e00-4b81-ee31-4be5574fbd63"
      },
      "outputs": [
        {
          "name": "stdout",
          "output_type": "stream",
          "text": [
            "Overwriting inverse-matrix.cuh\n"
          ]
        }
      ],
      "source": [
        "%%writefile inverse-matrix.cuh\n",
        "\n",
        "#include <cuda_runtime.h>\n",
        "\n",
        "__global__ void calculateInverse(double* matrix_pointer, int width, int height, int currRow);\n",
        "\n",
        "__global__ void step1(double* matrix_pointer, int width, int height, int currRow);\n",
        "\n",
        "__global__ void step2(double* matrix_pointer, int width, int height, int currRow);"
      ]
    },
    {
      "cell_type": "markdown",
      "metadata": {
        "id": "kxJdWth5pYH2"
      },
      "source": [
        "Device source code"
      ]
    },
    {
      "cell_type": "code",
      "execution_count": 176,
      "metadata": {
        "colab": {
          "base_uri": "https://localhost:8080/"
        },
        "id": "6F5bWyl8jJHn",
        "outputId": "ff4c243f-18c4-4bcd-815c-c4036e8b50b1"
      },
      "outputs": [
        {
          "name": "stdout",
          "output_type": "stream",
          "text": [
            "Overwriting inverse-matrix.cu\n"
          ]
        }
      ],
      "source": [
        "%%writefile inverse-matrix.cu\n",
        "\n",
        "#include <stdio.h>\n",
        "#include \"inverse-matrix.cuh\"\n",
        "\n",
        "using namespace std;\n",
        "\n",
        "__global__ void calculateInverse(double* matrix_pointer, int width, int height, int currRow)\n",
        "{\n",
        "  // step1(matrix_pointer, width, height, currRow);\n",
        "  __syncthreads();\n",
        "  // step2(matrix_pointer, width, height, currRow);\n",
        "  __syncthreads();\n",
        "}\n",
        "\n",
        "__global__ void step1(double* matrix_pointer, int width, int height, int currRow) {\n",
        "  __shared__ double diagonal;\n",
        "  diagonal = matrix_pointer[width * currRow + currRow];\n",
        "  __syncthreads();\n",
        "\n",
        "  int idx = blockIdx.x * blockDim.x + threadIdx.x;\n",
        "\n",
        "  if (idx < width) {\n",
        "    matrix_pointer[currRow * width + idx] =  matrix_pointer[currRow * width + idx] / diagonal;\n",
        "  }\n",
        "  __syncthreads();\n",
        "}\n",
        "\n",
        "__global__ void step2(double* matrix_pointer, int width, int height, int currRow) {\n",
        "  int col_idx = blockIdx.x * blockDim.x + threadIdx.x;\n",
        "  int row_idx = blockIdx.y * blockDim.y + threadIdx.y;\n",
        "  \n",
        "  if (row_idx != currRow && row_idx < height && col_idx < width && col_idx >= currRow) {\n",
        "      int pivotAdjIdx = row_idx * width + currRow;\n",
        "      double multiplier = matrix_pointer[pivotAdjIdx];\n",
        "    \n",
        "      int idx = row_idx * width + col_idx;\n",
        "      int pivotIdx = currRow * width + col_idx;\n",
        "      \n",
        "      double before = matrix_pointer[idx]; \n",
        "      double pivotElmt = matrix_pointer[pivotIdx];\n",
        "\n",
        "      matrix_pointer[idx] = before - multiplier * pivotElmt;\n",
        "      \n",
        "      double after = matrix_pointer[idx]; \n",
        "\n",
        "      // printf(\"iteration: %d, Col: %d, Row: %d, Multiplier: %.15f, pivotElmt %.15f, before %.15f, after %.15f, height %d width %d\\n\", currRow, col_idx, row_idx, multiplier, pivotElmt, before, after, height, width);\n",
        "  }\n",
        "  __syncthreads();\n",
        "}"
      ]
    },
    {
      "cell_type": "markdown",
      "metadata": {
        "id": "5nlX6nxhpjNT"
      },
      "source": [
        "host source code"
      ]
    },
    {
      "cell_type": "code",
      "execution_count": 183,
      "metadata": {
        "colab": {
          "base_uri": "https://localhost:8080/"
        },
        "id": "ElpLkrLbi5bN",
        "outputId": "21af0a8f-eb82-40d3-e7ae-91a2cbe7e75b"
      },
      "outputs": [
        {
          "name": "stdout",
          "output_type": "stream",
          "text": [
            "Overwriting cuda.cu\n"
          ]
        }
      ],
      "source": [
        "%%writefile cuda.cu\n",
        "\n",
        "#include <stdio.h>\n",
        "#include <iostream>\n",
        "#include \"inverse-matrix.cuh\"\n",
        "\n",
        "using namespace std;\n",
        "\n",
        "// Display a 2d matrix\n",
        "void printMatrix(double *matrix, int count_width, int count_row, int res)\n",
        "{\n",
        "  for (int i = 0; i < count_row; i++)\n",
        "  {\n",
        "    for (int j = 0; j < count_width; j++)\n",
        "    {\n",
        "      if (res)\n",
        "      {\n",
        "        if (j > (count_width / 2) - 1)\n",
        "        {\n",
        "          cout << *(matrix + j + i * count_width) << \" \";\n",
        "        }\n",
        "      }\n",
        "      else\n",
        "      {\n",
        "        cout << *(matrix + j + i * count_width) << \" \";\n",
        "        if (j == (count_width / 2) - 1)\n",
        "        {\n",
        "          cout << \"|\";\n",
        "        }\n",
        "      }\n",
        "    }\n",
        "    cout << endl;\n",
        "  }\n",
        "}\n",
        "\n",
        "int main(int argc,char **argv)\n",
        "{\n",
        "  double *matrix;\n",
        "  int mat_size;\n",
        "\n",
        "  cin >> mat_size;\n",
        "  int count_x = mat_size;\n",
        "  int count_y = mat_size * 2;\n",
        "  matrix = (double *)malloc(count_x * count_y * sizeof(double));\n",
        "\n",
        "  for (int i = 0; i < mat_size; i++)\n",
        "  {\n",
        "    for (int j = 0; j < mat_size; j++)\n",
        "    {\n",
        "      cin >> *(matrix + i * count_y + j);\n",
        "    }\n",
        "  }\n",
        "\n",
        "  for (int i = 0; i < mat_size; i++)\n",
        "  {\n",
        "    for (int j = mat_size; j < (mat_size) * 2; j++)\n",
        "    {\n",
        "      if (i + mat_size == j)\n",
        "      {\n",
        "        *(matrix + i * count_y + j) = 1;\n",
        "      }\n",
        "      else\n",
        "      {\n",
        "        *(matrix + i * count_y + j) = 0;\n",
        "      }\n",
        "    }\n",
        "  }\n",
        "\n",
        "  dim3 blockDim(16, 16);\n",
        "  dim3 gridDim((count_y + blockDim.x - 1) / blockDim.x, (count_x + blockDim.y - 1) / blockDim.y);\n",
        "\n",
        "  double *device_matrix_pointer;\n",
        "\n",
        "  cudaMalloc((void**)&device_matrix_pointer, count_x * count_y * sizeof(double));\n",
        "  cudaMemcpy(device_matrix_pointer, matrix,  count_x * count_y * sizeof(double), cudaMemcpyHostToDevice);\n",
        "\n",
        "  printf(\"grid.x %d grid.y %d grid.z %d\\n\",gridDim.x,gridDim.y,gridDim.z);\n",
        "  printf(\"block.x %d block.y %d block.z %d\\n\",blockDim.x,blockDim.y,blockDim.z);\n",
        "\n",
        "\n",
        "  for (int i = 0; i < count_x; i++) {\n",
        "    cudaDeviceSynchronize();\n",
        "    step1<<<blockDim,gridDim>>>(device_matrix_pointer, count_y, count_x, i);\n",
        "    cudaDeviceSynchronize();\n",
        "    step2<<<blockDim,gridDim>>>(device_matrix_pointer, count_y, count_x, i);\n",
        "    cudaDeviceSynchronize();    \n",
        "    // cudaDeviceSynchronize();\n",
        "    // calculateInverse<<<blockDim,gridDim>>>(device_matrix_pointer, count_y, count_x, i);\n",
        "    // cudaMemcpy(matrix, device_matrix_pointer, count_x * count_y * sizeof(double), cudaMemcpyDeviceToHost);\n",
        "    // printMatrix(matrix, count_y, count_x, 0);\n",
        "  }\n",
        "\n",
        "  cudaMemcpy(matrix, device_matrix_pointer, count_x * count_y * sizeof(double), cudaMemcpyDeviceToHost);\n",
        "  printMatrix(matrix, count_y, count_x, 1);\n",
        "\n",
        "  cudaFree(device_matrix_pointer);\n",
        "  cudaDeviceReset();\n",
        "  return 0;\n",
        "}"
      ]
    },
    {
      "cell_type": "code",
      "execution_count": 178,
      "metadata": {
        "id": "QSbL-dzAfm7w"
      },
      "outputs": [],
      "source": [
        "# Compile the code.\n",
        "!nvcc inverse-matrix.cu cuda.cu -o cuda.exe"
      ]
    },
    {
      "cell_type": "code",
      "execution_count": 185,
      "metadata": {
        "colab": {
          "base_uri": "https://localhost:8080/"
        },
        "id": "li5rYZ1jfosx",
        "outputId": "81d49f58-a623-46b0-faa6-cd980f1b84c7"
      },
      "outputs": [],
      "source": [
        "# !!! Make sure the test file is uploaded !!!\n",
        "!cuda.exe < ./64.txt > out.txt"
      ]
    },
    {
      "cell_type": "code",
      "execution_count": null,
      "metadata": {},
      "outputs": [],
      "source": []
    }
  ],
  "metadata": {
    "accelerator": "GPU",
    "colab": {
      "gpuType": "T4",
      "provenance": []
    },
    "kernelspec": {
      "display_name": "Python 3",
      "name": "python3"
    },
    "language_info": {
      "codemirror_mode": {
        "name": "ipython",
        "version": 3
      },
      "file_extension": ".py",
      "mimetype": "text/x-python",
      "name": "python",
      "nbconvert_exporter": "python",
      "pygments_lexer": "ipython3",
      "version": "3.11.1"
    }
  },
  "nbformat": 4,
  "nbformat_minor": 0
}
